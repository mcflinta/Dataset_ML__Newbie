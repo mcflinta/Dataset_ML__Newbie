{
 "cells": [
  {
   "cell_type": "code",
   "execution_count": 1,
   "metadata": {},
   "outputs": [],
   "source": [
    "import numpy as np\n",
    "np_array = np.array([0, 1, 2, 3])\n"
   ]
  },
  {
   "cell_type": "code",
   "execution_count": 2,
   "metadata": {},
   "outputs": [],
   "source": [
    "np_zero_array=  np.zeros(10)"
   ]
  },
  {
   "cell_type": "code",
   "execution_count": 3,
   "metadata": {},
   "outputs": [
    {
     "data": {
      "text/plain": [
       "array([0., 0., 0., 0., 0., 0., 0., 0., 0., 0.])"
      ]
     },
     "execution_count": 3,
     "metadata": {},
     "output_type": "execute_result"
    }
   ],
   "source": [
    "np_zero_array"
   ]
  },
  {
   "cell_type": "markdown",
   "metadata": {},
   "source": [
    "# 1. Ví dụ về phép cộng, từ hai ma trận numpy"
   ]
  },
  {
   "cell_type": "code",
   "execution_count": 12,
   "metadata": {},
   "outputs": [
    {
     "data": {
      "text/plain": [
       "(array([[-6, -6, -6],\n",
       "        [-6, -6, -6]]),\n",
       " array([[-6, -6, -6],\n",
       "        [-6, -6, -6]]))"
      ]
     },
     "execution_count": 12,
     "metadata": {},
     "output_type": "execute_result"
    }
   ],
   "source": [
    "# Cộng 2 ma trận 2 X 3\n",
    "a = np.array([[1, 2, 3],\n",
    "              [4, 5, 6]])\n",
    "b =  np.array([[7, 8, 9],\n",
    "               [10, 11, 12]])\n",
    "a + b, np.add(a, b)\n",
    "a - b, np.subtract(a, b)"
   ]
  },
  {
   "cell_type": "code",
   "execution_count": 14,
   "metadata": {},
   "outputs": [
    {
     "name": "stdout",
     "output_type": "stream",
     "text": [
      "Predict value: $0.82\n"
     ]
    }
   ],
   "source": [
    "def predict(data, w):\n",
    "    return data.dot(w)\n",
    "\n",
    "w = np.array([0.1, 0.2, 0.3])\n",
    "\n",
    "data1 = np.array([0.3, 1.5, 2.8])\n",
    "data2 = np.array([0.5, 0.4, 0.9])\n",
    "data3 = np.array([2.3, 3.1, 0.5])\n",
    "data_in = np.array([data1[0], data2[0], data3[0]])\n",
    "\n",
    "print('Predict value: $%.2f' % predict(data_in, w))"
   ]
  },
  {
   "cell_type": "code",
   "execution_count": 16,
   "metadata": {},
   "outputs": [
    {
     "ename": "NameError",
     "evalue": "name 'LineaerRegression' is not defined",
     "output_type": "error",
     "traceback": [
      "\u001b[1;31m---------------------------------------------------------------------------\u001b[0m",
      "\u001b[1;31mNameError\u001b[0m                                 Traceback (most recent call last)",
      "Cell \u001b[1;32mIn[16], line 5\u001b[0m\n\u001b[0;32m      3\u001b[0m X \u001b[38;5;241m=\u001b[39m np\u001b[38;5;241m.\u001b[39marray([[\u001b[38;5;241m3\u001b[39m], [\u001b[38;5;241m5\u001b[39m], [\u001b[38;5;241m7\u001b[39m], [\u001b[38;5;241m9\u001b[39m], [\u001b[38;5;241m11\u001b[39m]])\u001b[38;5;241m.\u001b[39mreshape(\u001b[38;5;241m-\u001b[39m\u001b[38;5;241m1\u001b[39m, \u001b[38;5;241m1\u001b[39m)\n\u001b[0;32m      4\u001b[0m y \u001b[38;5;241m=\u001b[39m [\u001b[38;5;241m8.0\u001b[39m, \u001b[38;5;241m9.1\u001b[39m, \u001b[38;5;241m10.3\u001b[39m, \u001b[38;5;241m11.4\u001b[39m, \u001b[38;5;241m12.6\u001b[39m]\n\u001b[1;32m----> 5\u001b[0m lreg_model \u001b[38;5;241m=\u001b[39m LineaerRegression()\n\u001b[0;32m      6\u001b[0m lreg_model\u001b[38;5;241m.\u001b[39mfit(X, y)\n\u001b[0;32m      8\u001b[0m new_data \u001b[38;5;241m=\u001b[39m np\u001b[38;5;241m.\u001b[39marray([[\u001b[38;5;241m13\u001b[39m]])\n",
      "\u001b[1;31mNameError\u001b[0m: name 'LineaerRegression' is not defined"
     ]
    }
   ],
   "source": [
    "from sklearn.linear_model import LinearRegression\n",
    "\n",
    "X = np.array([[3], [5], [7], [9], [11]]).reshape(-1, 1)\n",
    "y = [8.0, 9.1, 10.3, 11.4, 12.6]\n",
    "lreg_model = LineaerRegression()\n",
    "lreg_model.fit(X, y)\n",
    "\n",
    "new_data = np.array([[13]])\n",
    "print('Model Prediction for new data: $%.2f' & lreg_model(new_data)[0])"
   ]
  },
  {
   "cell_type": "code",
   "execution_count": null,
   "metadata": {},
   "outputs": [],
   "source": []
  }
 ],
 "metadata": {
  "kernelspec": {
   "display_name": "my_environment",
   "language": "python",
   "name": "python3"
  },
  "language_info": {
   "codemirror_mode": {
    "name": "ipython",
    "version": 3
   },
   "file_extension": ".py",
   "mimetype": "text/x-python",
   "name": "python",
   "nbconvert_exporter": "python",
   "pygments_lexer": "ipython3",
   "version": "3.11.5"
  }
 },
 "nbformat": 4,
 "nbformat_minor": 2
}
